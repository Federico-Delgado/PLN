{
 "cells": [
  {
   "cell_type": "markdown",
   "metadata": {
    "id": "Ue5hxxkdAQJg"
   },
   "source": [
    "<img src=\"https://github.com/FIUBA-Posgrado-Inteligencia-Artificial/procesamiento_lenguaje_natural/raw/main/logoFIUBA.jpg\" width=\"500\" align=\"center\">\n",
    "\n",
    "\n",
    "# Procesamiento de lenguaje natural\n",
    "## Vectorización\n"
   ]
  },
  {
   "cell_type": "code",
   "execution_count": 1,
   "metadata": {
    "id": "kCED1hh-Ioyf"
   },
   "outputs": [],
   "source": [
    "import numpy as np\n",
    "import pandas as pd"
   ]
  },
  {
   "cell_type": "code",
   "execution_count": 2,
   "metadata": {
    "id": "PUbfVnzIIoMj"
   },
   "outputs": [],
   "source": [
    "def cosine_similarity(a, b):\n",
    "    return np.dot(a, b) / (np.linalg.norm(a) * (np.linalg.norm(b)))"
   ]
  },
  {
   "cell_type": "markdown",
   "metadata": {
    "id": "DMOa4JPSCJ29"
   },
   "source": [
    "### Datos"
   ]
  },
  {
   "cell_type": "code",
   "execution_count": 3,
   "metadata": {
    "id": "RIO7b8GjAC17"
   },
   "outputs": [],
   "source": [
    "corpus = np.array(['que dia es hoy', 'martes el dia de hoy es martes', 'martes muchas gracias'])"
   ]
  },
  {
   "cell_type": "markdown",
   "metadata": {
    "id": "8WqdaTmO8P1r"
   },
   "source": [
    "Documento 1 --> que dia es hoy \\\n",
    "Documento 2 --> martes el dia de hoy es martes \\\n",
    "Documento 3 --> martes muchas gracias"
   ]
  },
  {
   "cell_type": "markdown",
   "metadata": {
    "id": "FVHxBRNzCMOS"
   },
   "source": [
    "### 1 - Obtener el vocabulario del corpus (los términos utilizados)\n",
    "- Cada documento transformarlo en una lista de términos\n",
    "- Armar un vector de términos no repetidos de todos los documentos"
   ]
  },
  {
   "cell_type": "code",
   "execution_count": 4,
   "metadata": {},
   "outputs": [],
   "source": [
    "# Genero un vocabulario con todos los documentos del corpus eliminando los términos repetidos convirtiendolo a un set\n",
    "def vocabulary(corpus):\n",
    "    # Creo la variable para guardar las palabras del corpus\n",
    "    words = []\n",
    "    for doc in corpus:\n",
    "        # Separo el documento en términos\n",
    "        doc_terms = doc.split()\n",
    "        for word in doc_terms:\n",
    "            # Guardo los terminos en la lista words\n",
    "                words.append(word)\n",
    "    vocabulario = set(words)\n",
    "    return vocabulario"
   ]
  },
  {
   "cell_type": "code",
   "execution_count": 5,
   "metadata": {},
   "outputs": [
    {
     "name": "stdout",
     "output_type": "stream",
     "text": [
      "\n",
      "VOCABULARIO DEL CORPUS\n",
      "\n",
      "hoy\n",
      "que\n",
      "gracias\n",
      "martes\n",
      "dia\n",
      "es\n",
      "de\n",
      "el\n",
      "muchas\n"
     ]
    }
   ],
   "source": [
    "# Genero el vocabulario del corpus\n",
    "vocab = vocabulary(corpus)\n",
    "# Imprimo el vocabulario obtenido de la funcion\n",
    "print('\\nVOCABULARIO DEL CORPUS\\n')\n",
    "print('\\n'.join(vocab))"
   ]
  },
  {
   "cell_type": "markdown",
   "metadata": {
    "id": "RUhH983FI7It"
   },
   "source": [
    "### 2- OneHot encoding\n",
    "Data una lista de textos, devolver una matriz con la representación oneHotEncoding de estos"
   ]
  },
  {
   "cell_type": "code",
   "execution_count": 6,
   "metadata": {
    "id": "Os0AAQo6I6Z1"
   },
   "outputs": [],
   "source": [
    "# Realizo la codificacion one hot de los documentos del corpus\n",
    "def one_hot_encoding(vocabulario):\n",
    "    vocab = list(vocabulario)\n",
    "    # Inicializo matriz One Hot Encoding\n",
    "    one_hot_mat = []\n",
    "    for doc in corpus:\n",
    "        doc_terms = doc.split()\n",
    "        doc_encoding = []\n",
    "        for term in doc_terms:\n",
    "            # Agrego un 1 en el índice del término y en el resto de los índices ceros\n",
    "            doc_encoding.append(np.eye(len(vocab))[vocab.index(term)])\n",
    "        one_hot_mat.append(np.array(doc_encoding))\n",
    "    return one_hot_mat\n",
    "\n",
    "# Imprime la matriz de codificacion de los documentos del corpus\n",
    "def print_mat_enconding(corpus, one_hot_mat):\n",
    "    i = 0\n",
    "    for doc in corpus:\n",
    "        print(\"\\nDocumento:\\n\", doc)\n",
    "        print(\"One Hot Encoding:\\n\", one_hot_mat[i])\n",
    "        i += 1"
   ]
  },
  {
   "cell_type": "code",
   "execution_count": 7,
   "metadata": {},
   "outputs": [
    {
     "name": "stdout",
     "output_type": "stream",
     "text": [
      "\n",
      "Documento:\n",
      " que dia es hoy\n",
      "One Hot Encoding:\n",
      " [[0. 1. 0. 0. 0. 0. 0. 0. 0.]\n",
      " [0. 0. 0. 0. 1. 0. 0. 0. 0.]\n",
      " [0. 0. 0. 0. 0. 1. 0. 0. 0.]\n",
      " [1. 0. 0. 0. 0. 0. 0. 0. 0.]]\n",
      "\n",
      "Documento:\n",
      " martes el dia de hoy es martes\n",
      "One Hot Encoding:\n",
      " [[0. 0. 0. 1. 0. 0. 0. 0. 0.]\n",
      " [0. 0. 0. 0. 0. 0. 0. 1. 0.]\n",
      " [0. 0. 0. 0. 1. 0. 0. 0. 0.]\n",
      " [0. 0. 0. 0. 0. 0. 1. 0. 0.]\n",
      " [1. 0. 0. 0. 0. 0. 0. 0. 0.]\n",
      " [0. 0. 0. 0. 0. 1. 0. 0. 0.]\n",
      " [0. 0. 0. 1. 0. 0. 0. 0. 0.]]\n",
      "\n",
      "Documento:\n",
      " martes muchas gracias\n",
      "One Hot Encoding:\n",
      " [[0. 0. 0. 1. 0. 0. 0. 0. 0.]\n",
      " [0. 0. 0. 0. 0. 0. 0. 0. 1.]\n",
      " [0. 0. 1. 0. 0. 0. 0. 0. 0.]]\n"
     ]
    }
   ],
   "source": [
    "# Cargo el vocabulario\n",
    "vocab = vocabulary(corpus)\n",
    "# Resultado de la función one_hot_encoding\n",
    "one_hot_mat = one_hot_encoding(vocab)\n",
    "# Imprimo la codificacion\n",
    "print_mat_enconding(corpus, one_hot_mat)"
   ]
  },
  {
   "cell_type": "markdown",
   "metadata": {
    "id": "IIyWGmCpJVQL"
   },
   "source": [
    "### 3- Vectores de frecuencia\n",
    "Data una lista de textos, devolver una matriz con la representación de frecuencia de estos"
   ]
  },
  {
   "cell_type": "code",
   "execution_count": 8,
   "metadata": {
    "id": "yqij_7eHJbUi"
   },
   "outputs": [],
   "source": [
    "# Obtengo la frecuencia de las words del vocabulario en los documentos del corpus\n",
    "def frequency_vector(one_hot_mat):\n",
    "    freq = []\n",
    "    for doc in one_hot_mat:\n",
    "        # Sumo la cantidad de repeticiones de cada término en el documento\n",
    "        one_hot = np.sum(doc, axis=0).astype(int)\n",
    "        freq.append(one_hot) \n",
    "    return np.array(freq)"
   ]
  },
  {
   "cell_type": "code",
   "execution_count": 9,
   "metadata": {},
   "outputs": [
    {
     "name": "stdout",
     "output_type": "stream",
     "text": [
      "[[1 1 0 0 1 1 0 0 0]\n",
      " [1 0 0 2 1 1 1 1 0]\n",
      " [0 0 1 1 0 0 0 0 1]]\n"
     ]
    }
   ],
   "source": [
    "# Cargo el vocabulario\n",
    "vocab = vocabulary(corpus)\n",
    "# Resultado de la función one_hot_encoding\n",
    "one_hot_mat = one_hot_encoding(vocab)\n",
    "# Obtengo la frecuencia de las palabras en los documentos e imprimo la matriz resultante\n",
    "freq = frequency_vector(one_hot_mat)\n",
    "print(freq)"
   ]
  },
  {
   "cell_type": "code",
   "execution_count": 10,
   "metadata": {},
   "outputs": [
    {
     "data": {
      "text/html": [
       "<div>\n",
       "<style scoped>\n",
       "    .dataframe tbody tr th:only-of-type {\n",
       "        vertical-align: middle;\n",
       "    }\n",
       "\n",
       "    .dataframe tbody tr th {\n",
       "        vertical-align: top;\n",
       "    }\n",
       "\n",
       "    .dataframe thead th {\n",
       "        text-align: right;\n",
       "    }\n",
       "</style>\n",
       "<table border=\"1\" class=\"dataframe\">\n",
       "  <thead>\n",
       "    <tr style=\"text-align: right;\">\n",
       "      <th></th>\n",
       "      <th>hoy</th>\n",
       "      <th>que</th>\n",
       "      <th>gracias</th>\n",
       "      <th>martes</th>\n",
       "      <th>dia</th>\n",
       "      <th>es</th>\n",
       "      <th>de</th>\n",
       "      <th>el</th>\n",
       "      <th>muchas</th>\n",
       "    </tr>\n",
       "  </thead>\n",
       "  <tbody>\n",
       "    <tr>\n",
       "      <th>que dia es hoy</th>\n",
       "      <td>1</td>\n",
       "      <td>1</td>\n",
       "      <td>0</td>\n",
       "      <td>0</td>\n",
       "      <td>1</td>\n",
       "      <td>1</td>\n",
       "      <td>0</td>\n",
       "      <td>0</td>\n",
       "      <td>0</td>\n",
       "    </tr>\n",
       "    <tr>\n",
       "      <th>martes el dia de hoy es martes</th>\n",
       "      <td>1</td>\n",
       "      <td>0</td>\n",
       "      <td>0</td>\n",
       "      <td>2</td>\n",
       "      <td>1</td>\n",
       "      <td>1</td>\n",
       "      <td>1</td>\n",
       "      <td>1</td>\n",
       "      <td>0</td>\n",
       "    </tr>\n",
       "    <tr>\n",
       "      <th>martes muchas gracias</th>\n",
       "      <td>0</td>\n",
       "      <td>0</td>\n",
       "      <td>1</td>\n",
       "      <td>1</td>\n",
       "      <td>0</td>\n",
       "      <td>0</td>\n",
       "      <td>0</td>\n",
       "      <td>0</td>\n",
       "      <td>1</td>\n",
       "    </tr>\n",
       "  </tbody>\n",
       "</table>\n",
       "</div>"
      ],
      "text/plain": [
       "                                hoy  que  gracias  martes  dia  es  de  el   \n",
       "que dia es hoy                    1    1        0       0    1   1   0   0  \\\n",
       "martes el dia de hoy es martes    1    0        0       2    1   1   1   1   \n",
       "martes muchas gracias             0    0        1       1    0   0   0   0   \n",
       "\n",
       "                                muchas  \n",
       "que dia es hoy                       0  \n",
       "martes el dia de hoy es martes       0  \n",
       "martes muchas gracias                1  "
      ]
     },
     "execution_count": 10,
     "metadata": {},
     "output_type": "execute_result"
    }
   ],
   "source": [
    "# Creo dataframe para visualizar los resultados de frequency_vector\n",
    "pd.DataFrame(freq, \n",
    "             index=corpus, \n",
    "             columns=list(vocab))"
   ]
  },
  {
   "cell_type": "markdown",
   "metadata": {
    "id": "z_Ot8HvWJcBu"
   },
   "source": [
    "### 4- TF-IDF\n",
    "Data una lista de textos, devolver una matriz con la representacion TFIDF"
   ]
  },
  {
   "cell_type": "code",
   "execution_count": 11,
   "metadata": {
    "id": "waG_oWtpJjRw"
   },
   "outputs": [],
   "source": [
    "# Obtengo el TF-IDF del corpus\n",
    "def tf_idf(one_hot_mat):\n",
    "    encoded = []\n",
    "    for doc in one_hot_mat:\n",
    "        one_hot = np.any(doc, axis=0).astype(int)\n",
    "        encoded.append(one_hot) \n",
    "    # Calculo IDF\n",
    "    IDF = np.log10(np.divide(len(one_hot_mat), np.sum(encoded, axis=0).astype(int)))\n",
    "    # Calculo TF-IDF\n",
    "    return frequency_vector(one_hot_mat) * IDF"
   ]
  },
  {
   "cell_type": "code",
   "execution_count": 12,
   "metadata": {},
   "outputs": [
    {
     "name": "stdout",
     "output_type": "stream",
     "text": [
      "[[0.17609126 0.47712125 0.         0.         0.17609126 0.17609126\n",
      "  0.         0.         0.        ]\n",
      " [0.17609126 0.         0.         0.35218252 0.17609126 0.17609126\n",
      "  0.47712125 0.47712125 0.        ]\n",
      " [0.         0.         0.47712125 0.17609126 0.         0.\n",
      "  0.         0.         0.47712125]]\n"
     ]
    }
   ],
   "source": [
    "# Cargo el vocabulario\n",
    "vocab = vocabulary(corpus)\n",
    "# Resultado de la función one_hot_encoding\n",
    "one_hot_mat = one_hot_encoding(vocab)\n",
    "# Imprimo resultado de la función\n",
    "TF_IDF = tf_idf(one_hot_mat)\n",
    "print(TF_IDF)"
   ]
  },
  {
   "cell_type": "code",
   "execution_count": 13,
   "metadata": {},
   "outputs": [
    {
     "data": {
      "text/html": [
       "<div>\n",
       "<style scoped>\n",
       "    .dataframe tbody tr th:only-of-type {\n",
       "        vertical-align: middle;\n",
       "    }\n",
       "\n",
       "    .dataframe tbody tr th {\n",
       "        vertical-align: top;\n",
       "    }\n",
       "\n",
       "    .dataframe thead th {\n",
       "        text-align: right;\n",
       "    }\n",
       "</style>\n",
       "<table border=\"1\" class=\"dataframe\">\n",
       "  <thead>\n",
       "    <tr style=\"text-align: right;\">\n",
       "      <th></th>\n",
       "      <th>hoy</th>\n",
       "      <th>que</th>\n",
       "      <th>gracias</th>\n",
       "      <th>martes</th>\n",
       "      <th>dia</th>\n",
       "      <th>es</th>\n",
       "      <th>de</th>\n",
       "      <th>el</th>\n",
       "      <th>muchas</th>\n",
       "    </tr>\n",
       "  </thead>\n",
       "  <tbody>\n",
       "    <tr>\n",
       "      <th>que dia es hoy</th>\n",
       "      <td>0.176091</td>\n",
       "      <td>0.477121</td>\n",
       "      <td>0.000000</td>\n",
       "      <td>0.000000</td>\n",
       "      <td>0.176091</td>\n",
       "      <td>0.176091</td>\n",
       "      <td>0.000000</td>\n",
       "      <td>0.000000</td>\n",
       "      <td>0.000000</td>\n",
       "    </tr>\n",
       "    <tr>\n",
       "      <th>martes el dia de hoy es martes</th>\n",
       "      <td>0.176091</td>\n",
       "      <td>0.000000</td>\n",
       "      <td>0.000000</td>\n",
       "      <td>0.352183</td>\n",
       "      <td>0.176091</td>\n",
       "      <td>0.176091</td>\n",
       "      <td>0.477121</td>\n",
       "      <td>0.477121</td>\n",
       "      <td>0.000000</td>\n",
       "    </tr>\n",
       "    <tr>\n",
       "      <th>martes muchas gracias</th>\n",
       "      <td>0.000000</td>\n",
       "      <td>0.000000</td>\n",
       "      <td>0.477121</td>\n",
       "      <td>0.176091</td>\n",
       "      <td>0.000000</td>\n",
       "      <td>0.000000</td>\n",
       "      <td>0.000000</td>\n",
       "      <td>0.000000</td>\n",
       "      <td>0.477121</td>\n",
       "    </tr>\n",
       "  </tbody>\n",
       "</table>\n",
       "</div>"
      ],
      "text/plain": [
       "                                     hoy       que   gracias    martes   \n",
       "que dia es hoy                  0.176091  0.477121  0.000000  0.000000  \\\n",
       "martes el dia de hoy es martes  0.176091  0.000000  0.000000  0.352183   \n",
       "martes muchas gracias           0.000000  0.000000  0.477121  0.176091   \n",
       "\n",
       "                                     dia        es        de        el   \n",
       "que dia es hoy                  0.176091  0.176091  0.000000  0.000000  \\\n",
       "martes el dia de hoy es martes  0.176091  0.176091  0.477121  0.477121   \n",
       "martes muchas gracias           0.000000  0.000000  0.000000  0.000000   \n",
       "\n",
       "                                  muchas  \n",
       "que dia es hoy                  0.000000  \n",
       "martes el dia de hoy es martes  0.000000  \n",
       "martes muchas gracias           0.477121  "
      ]
     },
     "execution_count": 13,
     "metadata": {},
     "output_type": "execute_result"
    }
   ],
   "source": [
    "# Creo dataframe para visualizar los resultados de tf_idf\n",
    "pd.DataFrame(TF_IDF, \n",
    "             index=corpus, \n",
    "             columns=list(vocab))"
   ]
  },
  {
   "cell_type": "markdown",
   "metadata": {
    "id": "xMcsfndWJjm_"
   },
   "source": [
    "### 5 - Comparación de documentos\n",
    "Realizar una funcion que reciba el corpus y el índice de un documento y devuelva los documentos ordenados por la similitud coseno"
   ]
  },
  {
   "cell_type": "code",
   "execution_count": 14,
   "metadata": {},
   "outputs": [],
   "source": [
    "# Calculo la similitud coseno entre los documentos y los devuelvo ordenados\n",
    "def compare_docs(corpus, idx):\n",
    "    # Calculo el vocabulario, lo codifico y obtengo el tf_idf\n",
    "    vocab = vocabulary(corpus)\n",
    "    one_hot_mat = one_hot_encoding(vocab)\n",
    "    TF_IDF = tf_idf(one_hot_mat)\n",
    "    # Documento que quiero comparar\n",
    "    doc = TF_IDF[idx]\n",
    "    # Inicializo vector de similitudes\n",
    "    similar = []\n",
    "\n",
    "    for i, doc_i in enumerate(TF_IDF):\n",
    "        if i != idx:\n",
    "            # Si el documento no es el que pasa el usuario, calculo la similitud coseno y almaceno los valores\n",
    "            similarity =  cosine_similarity(doc, doc_i)\n",
    "            similar.append((i, similarity))\n",
    "    # Ordeno por similitud coseno\n",
    "    similar.sort(key=lambda x: x[1], reverse=True)\n",
    "    \n",
    "    \n",
    "    # Imprimo similitud coseno entre el documento que pasa el usuario y los demás documentos del corpus\n",
    "    for doc_idx, similarity in similar:\n",
    "        print(f\"Documento {idx} ({corpus[idx]}) con {doc_idx} ({corpus[doc_idx]}) = {similarity:.4f}\")\n",
    "    \n",
    "    # Retorno documentos ordenados\n",
    "    ordered_docs = [corpus[i] for i, _ in similar]\n",
    "    print(f\"Documentos ordenados por similitud coseno con el documento {idx}: {ordered_docs}\\n\")\n",
    "    return ordered_docs"
   ]
  },
  {
   "cell_type": "code",
   "execution_count": 16,
   "metadata": {},
   "outputs": [
    {
     "name": "stdout",
     "output_type": "stream",
     "text": [
      "\n",
      "SIMILITUD COSENO ENTRE DOCUMENTOS DEL CORPUS\n",
      "\n",
      "Documento 0 (que dia es hoy) con 1 (martes el dia de hoy es martes) = 0.2003\n",
      "Documento 0 (que dia es hoy) con 2 (martes muchas gracias) = 0.0000\n",
      "Documentos ordenados por similitud coseno con el documento 0: ['martes el dia de hoy es martes', 'martes muchas gracias']\n",
      "\n",
      "Documento 1 (martes el dia de hoy es martes) con 0 (que dia es hoy) = 0.2003\n",
      "Documento 1 (martes el dia de hoy es martes) con 2 (martes muchas gracias) = 0.1085\n",
      "Documentos ordenados por similitud coseno con el documento 1: ['que dia es hoy', 'martes muchas gracias']\n",
      "\n",
      "Documento 2 (martes muchas gracias) con 1 (martes el dia de hoy es martes) = 0.1085\n",
      "Documento 2 (martes muchas gracias) con 0 (que dia es hoy) = 0.0000\n",
      "Documentos ordenados por similitud coseno con el documento 2: ['martes el dia de hoy es martes', 'que dia es hoy']\n",
      "\n"
     ]
    }
   ],
   "source": [
    "# Imprimo resultados de la función compare_docs\n",
    "print('\\nSIMILITUD COSENO ENTRE DOCUMENTOS DEL CORPUS\\n')\n",
    "for doc in range(3):\n",
    "    ordered_docs = compare_docs(corpus, doc)"
   ]
  }
 ],
 "metadata": {
  "colab": {
   "authorship_tag": "ABX9TyO5fRYTpympAwJSVbric6dW",
   "collapsed_sections": [],
   "name": "1a - word2vec.ipynb",
   "provenance": []
  },
  "kernelspec": {
   "display_name": "Python 3.10.7 64-bit",
   "language": "python",
   "name": "python3"
  },
  "language_info": {
   "codemirror_mode": {
    "name": "ipython",
    "version": 3
   },
   "file_extension": ".py",
   "mimetype": "text/x-python",
   "name": "python",
   "nbconvert_exporter": "python",
   "pygments_lexer": "ipython3",
   "version": "3.10.7"
  },
  "vscode": {
   "interpreter": {
    "hash": "e371205f210a962933891fb768393d0bb46a1077adb2f652d434f3dc01a259b4"
   }
  }
 },
 "nbformat": 4,
 "nbformat_minor": 1
}
