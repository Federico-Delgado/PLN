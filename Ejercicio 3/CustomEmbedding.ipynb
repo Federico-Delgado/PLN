{
 "cells": [
  {
   "cell_type": "markdown",
   "metadata": {
    "id": "sZd5yLnnHOK0"
   },
   "source": [
    "<img src=\"https://github.com/hernancontigiani/ceia_memorias_especializacion/raw/master/Figures/logoFIUBA.jpg\" width=\"500\" align=\"center\">\n",
    "\n",
    "\n",
    "# Procesamiento de lenguaje natural\n",
    "## Custom embedddings con Gensim\n",
    "\n"
   ]
  },
  {
   "cell_type": "markdown",
   "metadata": {
    "id": "vA7nqkumo9z9"
   },
   "source": [
    "### Objetivo\n",
    "El objetivo es utilizar documentos / corpus para crear embeddings de palabras basado en ese contexto. Se utilizara un volumen del un libro de medicina para centrarnos en el sistema circulatorio humano."
   ]
  },
  {
   "cell_type": "code",
   "execution_count": 289,
   "metadata": {
    "id": "lFToQs5FK5uZ"
   },
   "outputs": [],
   "source": [
    "# Importo las librerias necesarias\n",
    "import pandas as pd\n",
    "from io import StringIO\n",
    "from urllib import request\n",
    "\n",
    "from gensim.models import Word2Vec\n",
    "from gensim.models.callbacks import CallbackAny2Vec\n",
    "\n",
    "from keras.preprocessing.text import text_to_word_sequence\n",
    "\n",
    "from sklearn.decomposition import IncrementalPCA    \n",
    "from sklearn.manifold import TSNE                   \n",
    "import numpy as np\n",
    "\n",
    "import plotly.graph_objects as go\n",
    "import plotly.express as px\n"
   ]
  },
  {
   "cell_type": "markdown",
   "metadata": {
    "id": "g07zJxG7H9vG"
   },
   "source": [
    "### Datos\n",
    "Utilizaremos como dataset el primer volumen del libro \"*General Anatomy applied to physiology and medicine*\" de Xavier Bichat\"
   ]
  },
  {
   "cell_type": "code",
   "execution_count": 290,
   "metadata": {},
   "outputs": [],
   "source": [
    "# Descargo el eBook de Project Gutenberg\n",
    "url = \"https://www.gutenberg.org/files/56118/56118-0.txt\" # URL del primer volumen del libro (es el que mas habla del sistema del corazon)\n",
    "\n",
    "# Variable para almacenar el libro\n",
    "texts = []\n",
    "# Comienzo del libro\n",
    "start = \"*** START OF THIS PROJECT GUTENBERG EBOOK GENERAL ANATOMY, VOL 1 ***\"\n",
    "# Fianl del libro\n",
    "end = \"*** END OF THIS PROJECT GUTENBERG EBOOK GENERAL ANATOMY, VOL 1 ***\" \n",
    "# Recorro el libro, delimitados por start y end\n",
    "response = request.urlopen(url)\n",
    "raw = response.read()\n",
    "text = raw.decode(\"utf-8-sig\")\n",
    "text = text[text.find(start) + len(start):text.find(end)]\n",
    "texts.append(text)"
   ]
  },
  {
   "cell_type": "code",
   "execution_count": 291,
   "metadata": {},
   "outputs": [
    {
     "name": "stderr",
     "output_type": "stream",
     "text": [
      "C:\\Users\\Federico Delgado\\AppData\\Local\\Temp\\ipykernel_12816\\3943130561.py:2: ParserWarning:\n",
      "\n",
      "Falling back to the 'python' engine because the 'c' engine does not support regex separators (separators > 1 char and different from '\\s+' are interpreted as regex); you can avoid this warning by specifying engine='python'.\n",
      "\n"
     ]
    },
    {
     "data": {
      "text/html": [
       "<div>\n",
       "<style scoped>\n",
       "    .dataframe tbody tr th:only-of-type {\n",
       "        vertical-align: middle;\n",
       "    }\n",
       "\n",
       "    .dataframe tbody tr th {\n",
       "        vertical-align: top;\n",
       "    }\n",
       "\n",
       "    .dataframe thead th {\n",
       "        text-align: right;\n",
       "    }\n",
       "</style>\n",
       "<table border=\"1\" class=\"dataframe\">\n",
       "  <thead>\n",
       "    <tr style=\"text-align: right;\">\n",
       "      <th></th>\n",
       "      <th>0</th>\n",
       "    </tr>\n",
       "  </thead>\n",
       "  <tbody>\n",
       "    <tr>\n",
       "      <th>0</th>\n",
       "      <td>Produced by Sonya Schermann, Les Galloway and ...</td>\n",
       "    </tr>\n",
       "    <tr>\n",
       "      <th>1</th>\n",
       "      <td>Distributed Proofreading Team at http://www.pg...</td>\n",
       "    </tr>\n",
       "    <tr>\n",
       "      <th>2</th>\n",
       "      <td>file was produced from images generously made ...</td>\n",
       "    </tr>\n",
       "    <tr>\n",
       "      <th>3</th>\n",
       "      <td>by The Internet Archive)</td>\n",
       "    </tr>\n",
       "    <tr>\n",
       "      <th>4</th>\n",
       "      <td>[Illustration: BICHAT. X</td>\n",
       "    </tr>\n",
       "  </tbody>\n",
       "</table>\n",
       "</div>"
      ],
      "text/plain": [
       "                                                   0\n",
       "0  Produced by Sonya Schermann, Les Galloway and ...\n",
       "1  Distributed Proofreading Team at http://www.pg...\n",
       "2  file was produced from images generously made ...\n",
       "3                           by The Internet Archive)\n",
       "4                           [Illustration: BICHAT. X"
      ]
     },
     "execution_count": 291,
     "metadata": {},
     "output_type": "execute_result"
    }
   ],
   "source": [
    "#Convierto la variable string en un dataframe\n",
    "df = pd.read_csv(StringIO(text), sep='/n', header=None)\n",
    "df.head()"
   ]
  },
  {
   "cell_type": "markdown",
   "metadata": {
    "id": "ab94qaFlrA1G"
   },
   "source": [
    "### 1 - Preprocesamiento"
   ]
  },
  {
   "cell_type": "code",
   "execution_count": 293,
   "metadata": {
    "id": "rIsmMWmjrDHd"
   },
   "outputs": [],
   "source": [
    "sentence_tokens = []\n",
    "# Recorrer todas las filas y transformar las oraciones\n",
    "# en una secuencia de palabras (esto podría realizarse con NLTK o spaCy también)\n",
    "for _, row in df[:None].iterrows():\n",
    "    sentence_tokens.append(text_to_word_sequence(row[0]))"
   ]
  },
  {
   "cell_type": "code",
   "execution_count": 294,
   "metadata": {
    "id": "CHepi_DGrbhq"
   },
   "outputs": [
    {
     "data": {
      "text/plain": [
       "[['produced',\n",
       "  'by',\n",
       "  'sonya',\n",
       "  'schermann',\n",
       "  'les',\n",
       "  'galloway',\n",
       "  'and',\n",
       "  'the',\n",
       "  'online'],\n",
       " ['distributed',\n",
       "  'proofreading',\n",
       "  'team',\n",
       "  'at',\n",
       "  'http',\n",
       "  'www',\n",
       "  'pgdp',\n",
       "  'net',\n",
       "  'this'],\n",
       " ['file',\n",
       "  'was',\n",
       "  'produced',\n",
       "  'from',\n",
       "  'images',\n",
       "  'generously',\n",
       "  'made',\n",
       "  'available'],\n",
       " ['by', 'the', 'internet', 'archive'],\n",
       " ['illustration', 'bichat', 'x']]"
      ]
     },
     "execution_count": 294,
     "metadata": {},
     "output_type": "execute_result"
    }
   ],
   "source": [
    "# Demos un vistazo\n",
    "sentence_tokens[:5]"
   ]
  },
  {
   "cell_type": "markdown",
   "metadata": {
    "id": "BaXV6nlHr5Aa"
   },
   "source": [
    "### 2 - Crear los vectores (word2vec)"
   ]
  },
  {
   "cell_type": "code",
   "execution_count": 295,
   "metadata": {
    "id": "OSb0v7h8r7hK"
   },
   "outputs": [],
   "source": [
    "# Durante el entrenamiento gensim por defecto no informa el \"loss\" en cada época\n",
    "# Sobrecargamos el callback para poder tener esta información\n",
    "class callback(CallbackAny2Vec):\n",
    "    \"\"\"\n",
    "    Callback to print loss after each epoch\n",
    "    \"\"\"\n",
    "    def __init__(self):\n",
    "        self.epoch = 0\n",
    "\n",
    "    def on_epoch_end(self, model):\n",
    "        loss = model.get_latest_training_loss()\n",
    "        if self.epoch == 0:\n",
    "            print('Loss after epoch {}: {}'.format(self.epoch, loss))\n",
    "        else:\n",
    "            print('Loss after epoch {}: {}'.format(self.epoch, loss- self.loss_previous_step))\n",
    "        self.epoch += 1\n",
    "        self.loss_previous_step = loss"
   ]
  },
  {
   "cell_type": "code",
   "execution_count": 296,
   "metadata": {
    "id": "i0wnDdv9sJ47"
   },
   "outputs": [],
   "source": [
    "# Crearmos el modelo generador de vectores\n",
    "# En este caso utilizaremos la estructura modelo Skipgram\n",
    "w2v_model = Word2Vec(min_count=5,    # frecuencia mínima de palabra para incluirla en el vocabulario\n",
    "                     window=2,       # cant de palabras antes y desp de la predicha\n",
    "                     vector_size=50,       # dimensionalidad de los vectores \n",
    "                     negative=20,    # cantidad de negative samples... 0 es no se usa\n",
    "                     workers=5,      # si tienen más cores pueden cambiar este valor\n",
    "                     sg=0)           # modelo 0:CBOW  1:skipgram"
   ]
  },
  {
   "cell_type": "code",
   "execution_count": 297,
   "metadata": {
    "id": "5lTt8wErsf17"
   },
   "outputs": [],
   "source": [
    "# Obtener el vocabulario con los tokens\n",
    "w2v_model.build_vocab(sentence_tokens)"
   ]
  },
  {
   "cell_type": "code",
   "execution_count": 298,
   "metadata": {
    "id": "TNc9qt4os5AT"
   },
   "outputs": [
    {
     "name": "stdout",
     "output_type": "stream",
     "text": [
      "Cantidad de docs en el corpus: 12998\n"
     ]
    }
   ],
   "source": [
    "# Cantidad de filas/docs encontradas en el corpus\n",
    "print(\"Cantidad de docs en el corpus:\", w2v_model.corpus_count)"
   ]
  },
  {
   "cell_type": "code",
   "execution_count": 299,
   "metadata": {
    "id": "idw9cHF3tSMl"
   },
   "outputs": [
    {
     "name": "stdout",
     "output_type": "stream",
     "text": [
      "Cantidad de words distintas en el corpus: 2153\n"
     ]
    }
   ],
   "source": [
    "# Cantidad de words encontradas en el corpus\n",
    "print(\"Cantidad de words distintas en el corpus:\", len(w2v_model.wv.index_to_key))"
   ]
  },
  {
   "cell_type": "markdown",
   "metadata": {
    "id": "fC9mZ8DPk-UC"
   },
   "source": [
    "### 3 - Entrenar el modelo generador"
   ]
  },
  {
   "cell_type": "code",
   "execution_count": 300,
   "metadata": {
    "id": "QSp-x0PAsq56"
   },
   "outputs": [
    {
     "name": "stdout",
     "output_type": "stream",
     "text": [
      "Loss after epoch 0: 93148.3046875\n",
      "Loss after epoch 1: 76314.0234375\n",
      "Loss after epoch 2: 73122.71875\n",
      "Loss after epoch 3: 71089.109375\n",
      "Loss after epoch 4: 69127.84375\n",
      "Loss after epoch 5: 66939.15625\n",
      "Loss after epoch 6: 64739.6875\n",
      "Loss after epoch 7: 63421.40625\n",
      "Loss after epoch 8: 62232.9375\n",
      "Loss after epoch 9: 60404.4375\n",
      "Loss after epoch 10: 59734.125\n",
      "Loss after epoch 11: 57479.0\n",
      "Loss after epoch 12: 56228.0\n",
      "Loss after epoch 13: 56461.5\n",
      "Loss after epoch 14: 55987.4375\n",
      "Loss after epoch 15: 55431.75\n",
      "Loss after epoch 16: 52307.5625\n",
      "Loss after epoch 17: 52304.25\n",
      "Loss after epoch 18: 51111.75\n",
      "Loss after epoch 19: 51764.5\n",
      "Loss after epoch 20: 51004.5\n",
      "Loss after epoch 21: 50862.875\n",
      "Loss after epoch 22: 50605.25\n",
      "Loss after epoch 23: 50908.75\n",
      "Loss after epoch 24: 50358.125\n",
      "Loss after epoch 25: 50189.875\n",
      "Loss after epoch 26: 50943.125\n",
      "Loss after epoch 27: 49705.25\n",
      "Loss after epoch 28: 50595.875\n",
      "Loss after epoch 29: 66143.875\n",
      "Loss after epoch 30: 49798.0\n",
      "Loss after epoch 31: 49586.25\n",
      "Loss after epoch 32: 49686.25\n",
      "Loss after epoch 33: 49763.75\n",
      "Loss after epoch 34: 49121.375\n",
      "Loss after epoch 35: 49427.375\n",
      "Loss after epoch 36: 48730.5\n",
      "Loss after epoch 37: 45964.5\n",
      "Loss after epoch 38: 46407.75\n",
      "Loss after epoch 39: 46111.75\n",
      "Loss after epoch 40: 46554.0\n",
      "Loss after epoch 41: 46589.25\n",
      "Loss after epoch 42: 46163.5\n",
      "Loss after epoch 43: 46379.75\n",
      "Loss after epoch 44: 45806.75\n",
      "Loss after epoch 45: 46297.25\n",
      "Loss after epoch 46: 46277.0\n",
      "Loss after epoch 47: 45230.25\n",
      "Loss after epoch 48: 46029.75\n",
      "Loss after epoch 49: 46246.25\n",
      "Loss after epoch 50: 46256.75\n",
      "Loss after epoch 51: 45676.5\n",
      "Loss after epoch 52: 46042.0\n",
      "Loss after epoch 53: 46401.0\n",
      "Loss after epoch 54: 46427.0\n",
      "Loss after epoch 55: 45835.25\n",
      "Loss after epoch 56: 45159.25\n",
      "Loss after epoch 57: 45950.5\n",
      "Loss after epoch 58: 45927.5\n",
      "Loss after epoch 59: 46007.25\n",
      "Loss after epoch 60: 45930.25\n",
      "Loss after epoch 61: 45777.25\n",
      "Loss after epoch 62: 45784.5\n",
      "Loss after epoch 63: 45188.5\n",
      "Loss after epoch 64: 46237.5\n",
      "Loss after epoch 65: 45390.25\n",
      "Loss after epoch 66: 46003.75\n",
      "Loss after epoch 67: 45460.5\n",
      "Loss after epoch 68: 46120.75\n",
      "Loss after epoch 69: 45515.75\n",
      "Loss after epoch 70: 45134.25\n",
      "Loss after epoch 71: 45200.5\n",
      "Loss after epoch 72: 44919.0\n",
      "Loss after epoch 73: 45333.0\n",
      "Loss after epoch 74: 44676.5\n",
      "Loss after epoch 75: 46092.75\n",
      "Loss after epoch 76: 44734.75\n",
      "Loss after epoch 77: 45379.25\n",
      "Loss after epoch 78: 45603.25\n",
      "Loss after epoch 79: 45665.5\n",
      "Loss after epoch 80: 44502.0\n",
      "Loss after epoch 81: 45004.75\n",
      "Loss after epoch 82: 43441.25\n",
      "Loss after epoch 83: 41378.5\n",
      "Loss after epoch 84: 40815.0\n",
      "Loss after epoch 85: 41679.5\n",
      "Loss after epoch 86: 41707.5\n",
      "Loss after epoch 87: 40898.5\n",
      "Loss after epoch 88: 41354.0\n",
      "Loss after epoch 89: 41605.0\n",
      "Loss after epoch 90: 41079.0\n",
      "Loss after epoch 91: 40971.5\n",
      "Loss after epoch 92: 41344.5\n",
      "Loss after epoch 93: 41606.0\n",
      "Loss after epoch 94: 41804.0\n",
      "Loss after epoch 95: 41189.0\n",
      "Loss after epoch 96: 40723.0\n",
      "Loss after epoch 97: 40669.0\n",
      "Loss after epoch 98: 40910.5\n",
      "Loss after epoch 99: 40998.5\n",
      "Loss after epoch 100: 40439.0\n",
      "Loss after epoch 101: 41265.0\n",
      "Loss after epoch 102: 40995.5\n",
      "Loss after epoch 103: 40560.0\n",
      "Loss after epoch 104: 40558.0\n",
      "Loss after epoch 105: 41000.0\n",
      "Loss after epoch 106: 40875.5\n",
      "Loss after epoch 107: 40344.5\n",
      "Loss after epoch 108: 40660.0\n",
      "Loss after epoch 109: 40070.5\n",
      "Loss after epoch 110: 40835.0\n",
      "Loss after epoch 111: 40240.0\n",
      "Loss after epoch 112: 40548.0\n",
      "Loss after epoch 113: 40720.0\n",
      "Loss after epoch 114: 39890.0\n",
      "Loss after epoch 115: 39957.0\n",
      "Loss after epoch 116: 40274.5\n",
      "Loss after epoch 117: 39666.0\n",
      "Loss after epoch 118: 39665.0\n",
      "Loss after epoch 119: 39367.0\n",
      "Loss after epoch 120: 39231.0\n",
      "Loss after epoch 121: 39040.5\n",
      "Loss after epoch 122: 39539.5\n",
      "Loss after epoch 123: 39931.0\n",
      "Loss after epoch 124: 52257.0\n",
      "Loss after epoch 125: 39909.0\n",
      "Loss after epoch 126: 39172.0\n",
      "Loss after epoch 127: 39253.5\n",
      "Loss after epoch 128: 39828.0\n",
      "Loss after epoch 129: 39810.5\n",
      "Loss after epoch 130: 38842.5\n",
      "Loss after epoch 131: 39073.0\n",
      "Loss after epoch 132: 38829.0\n",
      "Loss after epoch 133: 38555.0\n",
      "Loss after epoch 134: 38808.0\n",
      "Loss after epoch 135: 39090.0\n",
      "Loss after epoch 136: 39159.5\n",
      "Loss after epoch 137: 39050.0\n",
      "Loss after epoch 138: 38789.5\n",
      "Loss after epoch 139: 38937.0\n",
      "Loss after epoch 140: 39191.0\n",
      "Loss after epoch 141: 38592.0\n",
      "Loss after epoch 142: 39262.0\n",
      "Loss after epoch 143: 38427.5\n",
      "Loss after epoch 144: 38133.0\n",
      "Loss after epoch 145: 38716.0\n",
      "Loss after epoch 146: 38604.0\n",
      "Loss after epoch 147: 39016.0\n",
      "Loss after epoch 148: 38907.5\n",
      "Loss after epoch 149: 38128.0\n"
     ]
    },
    {
     "data": {
      "text/plain": [
       "(13671343, 21550500)"
      ]
     },
     "execution_count": 300,
     "metadata": {},
     "output_type": "execute_result"
    }
   ],
   "source": [
    "# Entrenamos el modelo generador de vectores\n",
    "# Utilizamos nuestro callback\n",
    "w2v_model.train(sentence_tokens,\n",
    "                 total_examples=w2v_model.corpus_count,\n",
    "                 epochs=150,\n",
    "                 compute_loss = True,\n",
    "                 callbacks=[callback()]\n",
    "                 )"
   ]
  },
  {
   "cell_type": "markdown",
   "metadata": {
    "id": "ddT9NVuNlCAe"
   },
   "source": [
    "### 4 - Ensayar"
   ]
  },
  {
   "cell_type": "code",
   "execution_count": 301,
   "metadata": {
    "id": "6cHN9xGLuPEm"
   },
   "outputs": [
    {
     "data": {
      "text/plain": [
       "[('brain', 0.5791317820549011),\n",
       " ('blood', 0.5339213013648987),\n",
       " ('right', 0.5073384046554565),\n",
       " ('lungs', 0.5067171454429626),\n",
       " ('agent', 0.4938390851020813)]"
      ]
     },
     "execution_count": 301,
     "metadata": {},
     "output_type": "execute_result"
    }
   ],
   "source": [
    "# Palabras que mas se relacionan con corazon:\n",
    "w2v_model.wv.most_similar(positive=[\"heart\"], topn=5)"
   ]
  },
  {
   "cell_type": "markdown",
   "metadata": {},
   "source": [
    "La palabra **corazon** se relaciona con: cerebro, sangre, derecha, pulmones y agente.\n",
    "Cerebro y corazón tienen una relación simbiótica, no pueden vivir uno sin el otro. El corazón le lleva sangre con oxígeno y nutrientes al cerebro para que despliegue la fabulosa función como una de las estructuras más complejas del universo. El corazón bombea sangre a todas las partes del cuerpo.El corazón y los pulmones trabajan juntos para mantener el suministro de oxígeno a las células del organismo."
   ]
  },
  {
   "cell_type": "code",
   "execution_count": 302,
   "metadata": {},
   "outputs": [
    {
     "data": {
      "text/plain": [
       "[('veins', 0.6526007652282715),\n",
       " ('nerves', 0.525545060634613),\n",
       " ('vessels', 0.508046567440033),\n",
       " ('parietes', 0.48986199498176575),\n",
       " ('aorta', 0.4849154055118561)]"
      ]
     },
     "execution_count": 302,
     "metadata": {},
     "output_type": "execute_result"
    }
   ],
   "source": [
    "# Palabras que mas se relacionan con arteria:\n",
    "w2v_model.wv.most_similar(positive=[\"arteries\"], topn=5)"
   ]
  },
  {
   "cell_type": "markdown",
   "metadata": {},
   "source": [
    "La palabra **arterias** se relaciona con: vena, nervios, vasos, parietas y aurícula.\n",
    "Se considera correcta la relacion de palabras ya que estas palabras verdaderamente tienen una relación fuerte. Por ejemplo, las venas también conducen sangre a través del cuerpo. Por otra parte, la aorta es la arteria principal del cuerpo."
   ]
  },
  {
   "cell_type": "code",
   "execution_count": 303,
   "metadata": {
    "id": "47HiU5gdkdMq"
   },
   "outputs": [
    {
     "data": {
      "text/plain": [
       "[('auricle', 0.5358238816261292),\n",
       " ('ventricle', 0.5012790560722351),\n",
       " ('arteries', 0.4849153757095337),\n",
       " ('branches', 0.4526328146457672),\n",
       " ('venæ', 0.44002336263656616)]"
      ]
     },
     "execution_count": 303,
     "metadata": {},
     "output_type": "execute_result"
    }
   ],
   "source": [
    "# Palabras que mas se relacionan con aorta:\n",
    "w2v_model.wv.most_similar(positive=[\"aorta\"], topn=5)"
   ]
  },
  {
   "cell_type": "markdown",
   "metadata": {},
   "source": [
    "La palabra **aorta** se relaciona con: auricula, ventriculo, arterias, rama y vena.\n",
    "La aorta es la arteria principal del cuerpo. La aorta se conecta al ventrículo derecho. La aurícula izquierda recibe sangre oxigenada proveniente de los pulmones y la impulsa a través de la válvula mitral hacia el ventrículo izquierdo, el cual la distribuye a todo el organismo mediante la arteria aorta."
   ]
  },
  {
   "cell_type": "code",
   "execution_count": 304,
   "metadata": {},
   "outputs": [
    {
     "data": {
      "text/plain": [
       "[('arteries', 0.6526008248329163),\n",
       " ('extremities', 0.5406765937805176),\n",
       " ('vessels', 0.5321823954582214),\n",
       " ('trunks', 0.527570903301239),\n",
       " ('artery', 0.4806675314903259)]"
      ]
     },
     "execution_count": 304,
     "metadata": {},
     "output_type": "execute_result"
    }
   ],
   "source": [
    "# Palabras que mas se relacionan con venas:\n",
    "w2v_model.wv.most_similar(positive=[\"veins\"], topn=5)"
   ]
  },
  {
   "cell_type": "markdown",
   "metadata": {},
   "source": [
    "La palabra **venas** se relaciona con: arterias, extremidades, vaso, tronco y arteria.\n",
    "Una arteria es un vaso sanguíneo encargado de la distribución de la sangre oxigenada desde el corazón, hacia los capilares del cuerpo. Una vena es un vaso sanguíneo cuya función es retornar la sangre poco oxigenada desde los capilares sanguíneos hacia el corazón para ser oxigenada nuevamente en el pulmón."
   ]
  },
  {
   "cell_type": "code",
   "execution_count": 305,
   "metadata": {},
   "outputs": [
    {
     "data": {
      "text/plain": [
       "[('red', 0.5720971822738647),\n",
       " ('bile', 0.5542921423912048),\n",
       " ('heart', 0.5339213013648987),\n",
       " ('ventricle', 0.5253048539161682),\n",
       " ('capacity', 0.5179917216300964)]"
      ]
     },
     "execution_count": 305,
     "metadata": {},
     "output_type": "execute_result"
    }
   ],
   "source": [
    "# Palabras que mas se relacionan con sangre:\n",
    "w2v_model.wv.most_similar(positive=[\"blood\"], topn=5)"
   ]
  },
  {
   "cell_type": "markdown",
   "metadata": {},
   "source": [
    "La palabra **sangre** se relaciona con: roja, bilis, corazon, ventriculo y capacidad.\n",
    "La sangre tiene un color rojo. En cada latido, el corazón envía sangre a todo el cuerpo, transportando oxígeno a todas y cada una de sus células."
   ]
  },
  {
   "cell_type": "code",
   "execution_count": 306,
   "metadata": {},
   "outputs": [
    {
     "data": {
      "text/plain": [
       "[('auricle', 0.6892009377479553),\n",
       " ('blood', 0.5253048539161682),\n",
       " ('relaxation', 0.5185235738754272),\n",
       " ('descending', 0.5061414837837219),\n",
       " ('aorta', 0.5012791752815247)]"
      ]
     },
     "execution_count": 306,
     "metadata": {},
     "output_type": "execute_result"
    }
   ],
   "source": [
    "# Palabras que MÁS se relacionan con...:\n",
    "w2v_model.wv.most_similar(positive=[\"ventricle\"], topn=5)"
   ]
  },
  {
   "cell_type": "markdown",
   "metadata": {},
   "source": [
    "La palabra **ventriuclo** se relaciona con: auricula, sangre, relajación, descendiendo y aorta.\n",
    "Las aurículas son las cámaras superiores del corazón. La sangre pobre en oxígeno que retorna del cuerpo fluye hacia la aurícula y ventrículo derechos.En la doctrina clásica, el llenado del ventrículo izquierdo se inicia con la relajación ventricular, un proceso activo consumidor de energía y que reduce la presión intraventricular a menos de la correspondiente a la aurícula izquierda."
   ]
  },
  {
   "cell_type": "markdown",
   "metadata": {
    "id": "_g8UVWe6lFmh"
   },
   "source": [
    "### 5 - Visualizar agrupación de vectores"
   ]
  },
  {
   "cell_type": "code",
   "execution_count": 307,
   "metadata": {
    "id": "pDxEVXAivjr9"
   },
   "outputs": [],
   "source": [
    "def reduce_dimensions(model):\n",
    "    num_dimensions = 2  \n",
    "\n",
    "    vectors = np.asarray(model.wv.vectors)\n",
    "    labels = np.asarray(model.wv.index_to_key)  \n",
    "\n",
    "    tsne = TSNE(n_components=num_dimensions, random_state=0)\n",
    "    vectors = tsne.fit_transform(vectors)\n",
    "\n",
    "    x_vals = [v[0] for v in vectors]\n",
    "    y_vals = [v[1] for v in vectors]\n",
    "    return x_vals, y_vals, labels"
   ]
  },
  {
   "cell_type": "code",
   "execution_count": 311,
   "metadata": {
    "id": "NCCXtDpcugmd"
   },
   "outputs": [
    {
     "data": {
      "application/vnd.plotly.v1+json": {
       "config": {
        "plotlyServerURL": "https://plot.ly"
       },
       "data": [
        {
         "hovertemplate": "x=%{x}<br>y=%{y}<br>text=%{text}<extra></extra>",
         "legendgroup": "",
         "marker": {
          "color": "#636efa",
          "symbol": "circle"
         },
         "mode": "markers+text",
         "name": "",
         "orientation": "v",
         "showlegend": false,
         "text": [
          "the",
          "of",
          "in",
          "is",
          "that",
          "to",
          "and",
          "it",
          "a",
          "this",
          "which",
          "are",
          "as",
          "have",
          "by",
          "from",
          "not",
          "we",
          "with",
          "i",
          "blood",
          "they",
          "these",
          "be",
          "upon",
          "texture",
          "their",
          "there",
          "an",
          "but",
          "at",
          "c",
          "its",
          "them",
          "all",
          "has",
          "other",
          "system",
          "or",
          "arteries",
          "same",
          "for",
          "more",
          "cellular",
          "when",
          "nerves",
          "very",
          "if",
          "organs",
          "two",
          "one",
          "different",
          "on",
          "than",
          "general",
          "those",
          "then",
          "so",
          "only",
          "first",
          "veins",
          "great",
          "each",
          "much",
          "less",
          "animal",
          "into",
          "part",
          "heart",
          "between",
          "would",
          "no",
          "life",
          "been",
          "every",
          "see",
          "parts",
          "nervous",
          "can",
          "place",
          "brain",
          "organic",
          "many",
          "motion",
          "may",
          "branches",
          "thus",
          "also",
          "what",
          "where",
          "properties",
          "any",
          "arterial",
          "artery",
          "2d",
          "1st",
          "almost",
          "vessels",
          "contractility",
          "does",
          "phenomena",
          "some",
          "membrane",
          "evident",
          "organ",
          "without",
          "fluid",
          "do",
          "form",
          "will",
          "red",
          "always",
          "influence",
          "little",
          "vital",
          "kind",
          "substance",
          "most",
          "after",
          "diseases",
          "sensibility",
          "nature",
          "time",
          "was",
          "state",
          "│",
          "like",
          "often",
          "especially",
          "black",
          "action",
          "functions",
          "however",
          "common",
          "being",
          "even",
          "shall",
          "course",
          "because",
          "whole",
          "said",
          "manner",
          "trunks",
          "muscles",
          "circulation",
          "though",
          "nerve",
          "should",
          "others",
          "now",
          "difference",
          "made",
          "external",
          "go",
          "sometimes",
          "out",
          "3d",
          "peculiar",
          "ganglions",
          "fact",
          "why",
          "body",
          "origin",
          "found",
          "know",
          "seen",
          "cerebral",
          "capillary",
          "say",
          "fluids",
          "small",
          "appears",
          "under",
          "fibres",
          "lungs",
          "internal",
          "phenomenon",
          "takes",
          "systems",
          "venous",
          "quantity",
          "fat",
          "necessary",
          "cannot",
          "never",
          "us",
          "bodies",
          "last",
          "you",
          "pulmonary",
          "observed",
          "superior",
          "point",
          "take",
          "side",
          "evidently",
          "mucous",
          "observe",
          "experiments",
          "filaments"
         ],
         "type": "scatter",
         "x": [
          15.352071762084961,
          15.434477806091309,
          16.149394989013672,
          22.78179168701172,
          1.9569934606552124,
          0.4403482675552368,
          15.489946365356445,
          2.7013275623321533,
          -26.04069709777832,
          -26.08713150024414,
          2.085814952850342,
          24.894821166992188,
          -0.3273761570453644,
          -13.124235153198242,
          17.231582641601562,
          16.208181381225586,
          -10.129831314086914,
          -11.722286224365234,
          16.57826805114746,
          -11.701961517333984,
          12.470812797546387,
          -11.278377532958984,
          11.17271900177002,
          -22.342891693115234,
          17.512779235839844,
          21.769235610961914,
          11.277841567993164,
          2.7828550338745117,
          -26.2496337890625,
          5.35842227935791,
          27.85860252380371,
          -2.715785503387451,
          11.304232597351074,
          2.598423480987549,
          8.595329284667969,
          24.645986557006836,
          4.731937885284424,
          22.84507179260254,
          19.59783363342285,
          1.5192140340805054,
          -13.50203800201416,
          5.5617852210998535,
          20.85415267944336,
          7.513913154602051,
          -8.4924898147583,
          1.0404059886932373,
          6.504880905151367,
          -8.47169017791748,
          29.10643196105957,
          5.871307849884033,
          19.857648849487305,
          8.518120765686035,
          9.797304153442383,
          18.53403091430664,
          5.1279215812683105,
          -1.2888802289962769,
          1.5121744871139526,
          -0.5771027207374573,
          -12.469633102416992,
          8.40328598022461,
          1.5441439151763916,
          27.02814483642578,
          23.03664207458496,
          11.19865608215332,
          20.800682067871094,
          -22.377649307250977,
          17.28346061706543,
          9.386571884155273,
          -5.468808174133301,
          16.884706497192383,
          -19.196245193481445,
          -24.449121475219727,
          26.308361053466797,
          -9.535429954528809,
          -13.843548774719238,
          -25.507118225097656,
          29.066574096679688,
          7.595470428466797,
          -19.51873207092285,
          15.367578506469727,
          -5.365696430206299,
          -22.370954513549805,
          8.794079780578613,
          -13.541122436523438,
          -19.934234619140625,
          27.70498275756836,
          -0.21830019354820251,
          2.371407985687256,
          1.6888487339019775,
          6.151424407958984,
          26.213396072387695,
          -24.817087173461914,
          8.424445152282715,
          -8.937972068786621,
          23.335309982299805,
          1.1032931804656982,
          -11.952286720275879,
          1.0094714164733887,
          26.2672119140625,
          -17.137983322143555,
          3.924565315246582,
          8.794150352478027,
          -22.832107543945312,
          16.637836456298828,
          -6.1907501220703125,
          4.2695088386535645,
          11.152814865112305,
          -17.473058700561523,
          24.64590835571289,
          -19.183656692504883,
          8.466361045837402,
          -20.22224998474121,
          -11.376640319824219,
          17.16881561279297,
          5.126894950866699,
          -15.966203689575195,
          0.7732698917388916,
          6.660134315490723,
          -8.425506591796875,
          4.171289443969727,
          26.29454803466797,
          3.5066285133361816,
          14.989171981811523,
          23.106077194213867,
          -17.64968490600586,
          2.7688241004943848,
          -25.291725158691406,
          -9.876628875732422,
          9.525626182556152,
          8.518308639526367,
          16.20821762084961,
          3.446207046508789,
          -6.178083896636963,
          11.275991439819336,
          23.0540828704834,
          19.673906326293945,
          -17.768245697021484,
          13.679237365722656,
          11.177531242370605,
          22.272336959838867,
          -15.1845703125,
          -2.7658791542053223,
          27.67275619506836,
          -3.627821683883667,
          6.8789520263671875,
          13.131437301635742,
          -7.6494598388671875,
          -19.611717224121094,
          -1.684890866279602,
          -22.880979537963867,
          -10.140739440917969,
          -17.678098678588867,
          26.25850486755371,
          23.101961135864258,
          -9.24875545501709,
          23.58363151550293,
          23.232078552246094,
          12.121606826782227,
          1.319939374923706,
          -20.981945037841797,
          5.478862285614014,
          7.283987998962402,
          15.999601364135742,
          -25.165136337280273,
          -25.353717803955078,
          -16.334768295288086,
          4.044536113739014,
          7.409893035888672,
          -23.122297286987305,
          5.472289085388184,
          13.181769371032715,
          -18.824108123779297,
          10.263158798217773,
          -0.361761212348938,
          0.779035747051239,
          27.08696174621582,
          -13.72354507446289,
          20.289426803588867,
          23.56478500366211,
          8.782999038696289,
          17.571041107177734,
          -12.597291946411133,
          -23.294008255004883,
          -19.647706985473633,
          -10.014701843261719,
          -19.27859878540039,
          -1.116115927696228,
          14.044946670532227,
          -11.828545570373535,
          13.295207977294922,
          -16.366289138793945,
          16.980712890625,
          -18.21640396118164,
          -24.518909454345703,
          17.46199607849121,
          2.207839250564575,
          6.370031833648682,
          -24.816946029663086,
          -4.786523818969727,
          27.985782623291016
         ],
         "xaxis": "x",
         "y": [
          1.5011707544326782,
          1.460006833076477,
          1.926235556602478,
          5.872669219970703,
          13.909051895141602,
          13.026004791259766,
          1.9024066925048828,
          14.978907585144043,
          22.3637752532959,
          22.35881996154785,
          13.677718162536621,
          9.495908737182617,
          15.546059608459473,
          20.593351364135742,
          2.028360605239868,
          0.10523561388254166,
          26.032142639160156,
          22.911518096923828,
          1.436767578125,
          22.835451126098633,
          -10.835052490234375,
          21.39617919921875,
          29.766386032104492,
          12.663200378417969,
          2.053617477416992,
          -24.877653121948242,
          29.95867919921875,
          15.030295372009277,
          22.3915958404541,
          15.71019458770752,
          -2.312041997909546,
          -11.352431297302246,
          30.008581161499023,
          15.400986671447754,
          24.2817325592041,
          6.1635236740112305,
          18.89981460571289,
          -24.599544525146484,
          13.905269622802734,
          -26.370065689086914,
          2.4413199424743652,
          15.671207427978516,
          20.951644897460938,
          -28.15150260925293,
          30.178762435913086,
          -26.038667678833008,
          18.456430435180664,
          30.227205276489258,
          13.044486999511719,
          29.76214027404785,
          -17.601482391357422,
          23.7442684173584,
          8.356510162353516,
          14.583380699157715,
          0.27255210280418396,
          18.636873245239258,
          15.15279483795166,
          16.01633071899414,
          9.746901512145996,
          -8.743102073669434,
          -26.435169219970703,
          -4.962562084197998,
          -0.09392433613538742,
          18.30756187438965,
          21.12718391418457,
          -20.987550735473633,
          -0.2729225158691406,
          -7.122209072113037,
          -25.371225357055664,
          1.1359436511993408,
          24.941030502319336,
          22.310325622558594,
          -20.428125381469727,
          18.416492462158203,
          1.4846190214157104,
          10.95321273803711,
          13.04207706451416,
          -28.67841339111328,
          25.229473114013672,
          -9.649012565612793,
          -25.368967056274414,
          -20.988094329833984,
          26.04767608642578,
          -22.458173751831055,
          25.969560623168945,
          -14.328539848327637,
          15.46481990814209,
          16.352230072021484,
          14.125338554382324,
          11.7868013381958,
          -19.123199462890625,
          22.34964370727539,
          -29.319732666015625,
          -20.112281799316406,
          -15.432441711425781,
          16.745426177978516,
          -15.263349533081055,
          -27.870220184326172,
          -19.642839431762695,
          25.30116081237793,
          21.980924606323242,
          26.095258712768555,
          -17.3875732421875,
          17.394771575927734,
          -1.8857924938201904,
          8.823919296264648,
          -10.705648422241211,
          25.150239944458008,
          12.157679557800293,
          24.560152053833008,
          -32.882076263427734,
          0.730627715587616,
          4.728607654571533,
          25.23261833190918,
          4.274916648864746,
          -19.47405433654785,
          -23.98332977294922,
          18.888898849487305,
          20.222492218017578,
          23.969684600830078,
          -20.292604446411133,
          7.016320705413818,
          -15.699028968811035,
          5.812814235687256,
          -20.256296157836914,
          -8.92581844329834,
          -7.337828636169434,
          27.185617446899414,
          1.8042980432510376,
          -32.97885513305664,
          -10.947243690490723,
          22.084375381469727,
          22.51551628112793,
          4.026370525360107,
          6.930866241455078,
          16.62613868713379,
          23.8151798248291,
          -6.733952522277832,
          -1.236648678779602,
          -0.9189317226409912,
          17.8489933013916,
          -1.3805464506149292,
          -12.63171100616455,
          -25.61016273498535,
          -0.18371179699897766,
          6.692468166351318,
          -19.485109329223633,
          25.484508514404297,
          19.04314613342285,
          7.03506326675415,
          -17.52767562866211,
          17.188112258911133,
          1.0343377590179443,
          -3.2453384399414062,
          28.3973331451416,
          -9.010809898376465,
          -15.555830001831055,
          4.211343288421631,
          13.050910949707031,
          6.421812534332275,
          6.8660149574279785,
          -13.092618942260742,
          -12.733596801757812,
          -7.72672176361084,
          11.155173301696777,
          17.13469886779785,
          -26.3695125579834,
          -31.00018882751465,
          11.52428913116455,
          9.922942161560059,
          21.990455627441406,
          23.184406280517578,
          4.690865993499756,
          -31.228822708129883,
          -21.85982322692871,
          0.61954265832901,
          4.845752716064453,
          2.6309609413146973,
          -24.374616622924805,
          -29.212804794311523,
          -9.09459400177002,
          -9.299115180969238,
          18.690187454223633,
          25.32294273376465,
          26.623924255371094,
          12.500988960266113,
          20.684282302856445,
          -11.760193824768066,
          23.124408721923828,
          -18.965579986572266,
          16.77266502380371,
          -22.84893226623535,
          8.220013618469238,
          3.1514384746551514,
          -14.093669891357422,
          14.33761978149414,
          -27.35457992553711,
          10.908489227294922,
          24.523157119750977,
          -14.592411994934082
         ],
         "yaxis": "y"
        }
       ],
       "layout": {
        "legend": {
         "tracegroupgap": 0
        },
        "margin": {
         "t": 60
        },
        "template": {
         "data": {
          "bar": [
           {
            "error_x": {
             "color": "#2a3f5f"
            },
            "error_y": {
             "color": "#2a3f5f"
            },
            "marker": {
             "line": {
              "color": "#E5ECF6",
              "width": 0.5
             },
             "pattern": {
              "fillmode": "overlay",
              "size": 10,
              "solidity": 0.2
             }
            },
            "type": "bar"
           }
          ],
          "barpolar": [
           {
            "marker": {
             "line": {
              "color": "#E5ECF6",
              "width": 0.5
             },
             "pattern": {
              "fillmode": "overlay",
              "size": 10,
              "solidity": 0.2
             }
            },
            "type": "barpolar"
           }
          ],
          "carpet": [
           {
            "aaxis": {
             "endlinecolor": "#2a3f5f",
             "gridcolor": "white",
             "linecolor": "white",
             "minorgridcolor": "white",
             "startlinecolor": "#2a3f5f"
            },
            "baxis": {
             "endlinecolor": "#2a3f5f",
             "gridcolor": "white",
             "linecolor": "white",
             "minorgridcolor": "white",
             "startlinecolor": "#2a3f5f"
            },
            "type": "carpet"
           }
          ],
          "choropleth": [
           {
            "colorbar": {
             "outlinewidth": 0,
             "ticks": ""
            },
            "type": "choropleth"
           }
          ],
          "contour": [
           {
            "colorbar": {
             "outlinewidth": 0,
             "ticks": ""
            },
            "colorscale": [
             [
              0,
              "#0d0887"
             ],
             [
              0.1111111111111111,
              "#46039f"
             ],
             [
              0.2222222222222222,
              "#7201a8"
             ],
             [
              0.3333333333333333,
              "#9c179e"
             ],
             [
              0.4444444444444444,
              "#bd3786"
             ],
             [
              0.5555555555555556,
              "#d8576b"
             ],
             [
              0.6666666666666666,
              "#ed7953"
             ],
             [
              0.7777777777777778,
              "#fb9f3a"
             ],
             [
              0.8888888888888888,
              "#fdca26"
             ],
             [
              1,
              "#f0f921"
             ]
            ],
            "type": "contour"
           }
          ],
          "contourcarpet": [
           {
            "colorbar": {
             "outlinewidth": 0,
             "ticks": ""
            },
            "type": "contourcarpet"
           }
          ],
          "heatmap": [
           {
            "colorbar": {
             "outlinewidth": 0,
             "ticks": ""
            },
            "colorscale": [
             [
              0,
              "#0d0887"
             ],
             [
              0.1111111111111111,
              "#46039f"
             ],
             [
              0.2222222222222222,
              "#7201a8"
             ],
             [
              0.3333333333333333,
              "#9c179e"
             ],
             [
              0.4444444444444444,
              "#bd3786"
             ],
             [
              0.5555555555555556,
              "#d8576b"
             ],
             [
              0.6666666666666666,
              "#ed7953"
             ],
             [
              0.7777777777777778,
              "#fb9f3a"
             ],
             [
              0.8888888888888888,
              "#fdca26"
             ],
             [
              1,
              "#f0f921"
             ]
            ],
            "type": "heatmap"
           }
          ],
          "heatmapgl": [
           {
            "colorbar": {
             "outlinewidth": 0,
             "ticks": ""
            },
            "colorscale": [
             [
              0,
              "#0d0887"
             ],
             [
              0.1111111111111111,
              "#46039f"
             ],
             [
              0.2222222222222222,
              "#7201a8"
             ],
             [
              0.3333333333333333,
              "#9c179e"
             ],
             [
              0.4444444444444444,
              "#bd3786"
             ],
             [
              0.5555555555555556,
              "#d8576b"
             ],
             [
              0.6666666666666666,
              "#ed7953"
             ],
             [
              0.7777777777777778,
              "#fb9f3a"
             ],
             [
              0.8888888888888888,
              "#fdca26"
             ],
             [
              1,
              "#f0f921"
             ]
            ],
            "type": "heatmapgl"
           }
          ],
          "histogram": [
           {
            "marker": {
             "pattern": {
              "fillmode": "overlay",
              "size": 10,
              "solidity": 0.2
             }
            },
            "type": "histogram"
           }
          ],
          "histogram2d": [
           {
            "colorbar": {
             "outlinewidth": 0,
             "ticks": ""
            },
            "colorscale": [
             [
              0,
              "#0d0887"
             ],
             [
              0.1111111111111111,
              "#46039f"
             ],
             [
              0.2222222222222222,
              "#7201a8"
             ],
             [
              0.3333333333333333,
              "#9c179e"
             ],
             [
              0.4444444444444444,
              "#bd3786"
             ],
             [
              0.5555555555555556,
              "#d8576b"
             ],
             [
              0.6666666666666666,
              "#ed7953"
             ],
             [
              0.7777777777777778,
              "#fb9f3a"
             ],
             [
              0.8888888888888888,
              "#fdca26"
             ],
             [
              1,
              "#f0f921"
             ]
            ],
            "type": "histogram2d"
           }
          ],
          "histogram2dcontour": [
           {
            "colorbar": {
             "outlinewidth": 0,
             "ticks": ""
            },
            "colorscale": [
             [
              0,
              "#0d0887"
             ],
             [
              0.1111111111111111,
              "#46039f"
             ],
             [
              0.2222222222222222,
              "#7201a8"
             ],
             [
              0.3333333333333333,
              "#9c179e"
             ],
             [
              0.4444444444444444,
              "#bd3786"
             ],
             [
              0.5555555555555556,
              "#d8576b"
             ],
             [
              0.6666666666666666,
              "#ed7953"
             ],
             [
              0.7777777777777778,
              "#fb9f3a"
             ],
             [
              0.8888888888888888,
              "#fdca26"
             ],
             [
              1,
              "#f0f921"
             ]
            ],
            "type": "histogram2dcontour"
           }
          ],
          "mesh3d": [
           {
            "colorbar": {
             "outlinewidth": 0,
             "ticks": ""
            },
            "type": "mesh3d"
           }
          ],
          "parcoords": [
           {
            "line": {
             "colorbar": {
              "outlinewidth": 0,
              "ticks": ""
             }
            },
            "type": "parcoords"
           }
          ],
          "pie": [
           {
            "automargin": true,
            "type": "pie"
           }
          ],
          "scatter": [
           {
            "fillpattern": {
             "fillmode": "overlay",
             "size": 10,
             "solidity": 0.2
            },
            "type": "scatter"
           }
          ],
          "scatter3d": [
           {
            "line": {
             "colorbar": {
              "outlinewidth": 0,
              "ticks": ""
             }
            },
            "marker": {
             "colorbar": {
              "outlinewidth": 0,
              "ticks": ""
             }
            },
            "type": "scatter3d"
           }
          ],
          "scattercarpet": [
           {
            "marker": {
             "colorbar": {
              "outlinewidth": 0,
              "ticks": ""
             }
            },
            "type": "scattercarpet"
           }
          ],
          "scattergeo": [
           {
            "marker": {
             "colorbar": {
              "outlinewidth": 0,
              "ticks": ""
             }
            },
            "type": "scattergeo"
           }
          ],
          "scattergl": [
           {
            "marker": {
             "colorbar": {
              "outlinewidth": 0,
              "ticks": ""
             }
            },
            "type": "scattergl"
           }
          ],
          "scattermapbox": [
           {
            "marker": {
             "colorbar": {
              "outlinewidth": 0,
              "ticks": ""
             }
            },
            "type": "scattermapbox"
           }
          ],
          "scatterpolar": [
           {
            "marker": {
             "colorbar": {
              "outlinewidth": 0,
              "ticks": ""
             }
            },
            "type": "scatterpolar"
           }
          ],
          "scatterpolargl": [
           {
            "marker": {
             "colorbar": {
              "outlinewidth": 0,
              "ticks": ""
             }
            },
            "type": "scatterpolargl"
           }
          ],
          "scatterternary": [
           {
            "marker": {
             "colorbar": {
              "outlinewidth": 0,
              "ticks": ""
             }
            },
            "type": "scatterternary"
           }
          ],
          "surface": [
           {
            "colorbar": {
             "outlinewidth": 0,
             "ticks": ""
            },
            "colorscale": [
             [
              0,
              "#0d0887"
             ],
             [
              0.1111111111111111,
              "#46039f"
             ],
             [
              0.2222222222222222,
              "#7201a8"
             ],
             [
              0.3333333333333333,
              "#9c179e"
             ],
             [
              0.4444444444444444,
              "#bd3786"
             ],
             [
              0.5555555555555556,
              "#d8576b"
             ],
             [
              0.6666666666666666,
              "#ed7953"
             ],
             [
              0.7777777777777778,
              "#fb9f3a"
             ],
             [
              0.8888888888888888,
              "#fdca26"
             ],
             [
              1,
              "#f0f921"
             ]
            ],
            "type": "surface"
           }
          ],
          "table": [
           {
            "cells": {
             "fill": {
              "color": "#EBF0F8"
             },
             "line": {
              "color": "white"
             }
            },
            "header": {
             "fill": {
              "color": "#C8D4E3"
             },
             "line": {
              "color": "white"
             }
            },
            "type": "table"
           }
          ]
         },
         "layout": {
          "annotationdefaults": {
           "arrowcolor": "#2a3f5f",
           "arrowhead": 0,
           "arrowwidth": 1
          },
          "autotypenumbers": "strict",
          "coloraxis": {
           "colorbar": {
            "outlinewidth": 0,
            "ticks": ""
           }
          },
          "colorscale": {
           "diverging": [
            [
             0,
             "#8e0152"
            ],
            [
             0.1,
             "#c51b7d"
            ],
            [
             0.2,
             "#de77ae"
            ],
            [
             0.3,
             "#f1b6da"
            ],
            [
             0.4,
             "#fde0ef"
            ],
            [
             0.5,
             "#f7f7f7"
            ],
            [
             0.6,
             "#e6f5d0"
            ],
            [
             0.7,
             "#b8e186"
            ],
            [
             0.8,
             "#7fbc41"
            ],
            [
             0.9,
             "#4d9221"
            ],
            [
             1,
             "#276419"
            ]
           ],
           "sequential": [
            [
             0,
             "#0d0887"
            ],
            [
             0.1111111111111111,
             "#46039f"
            ],
            [
             0.2222222222222222,
             "#7201a8"
            ],
            [
             0.3333333333333333,
             "#9c179e"
            ],
            [
             0.4444444444444444,
             "#bd3786"
            ],
            [
             0.5555555555555556,
             "#d8576b"
            ],
            [
             0.6666666666666666,
             "#ed7953"
            ],
            [
             0.7777777777777778,
             "#fb9f3a"
            ],
            [
             0.8888888888888888,
             "#fdca26"
            ],
            [
             1,
             "#f0f921"
            ]
           ],
           "sequentialminus": [
            [
             0,
             "#0d0887"
            ],
            [
             0.1111111111111111,
             "#46039f"
            ],
            [
             0.2222222222222222,
             "#7201a8"
            ],
            [
             0.3333333333333333,
             "#9c179e"
            ],
            [
             0.4444444444444444,
             "#bd3786"
            ],
            [
             0.5555555555555556,
             "#d8576b"
            ],
            [
             0.6666666666666666,
             "#ed7953"
            ],
            [
             0.7777777777777778,
             "#fb9f3a"
            ],
            [
             0.8888888888888888,
             "#fdca26"
            ],
            [
             1,
             "#f0f921"
            ]
           ]
          },
          "colorway": [
           "#636efa",
           "#EF553B",
           "#00cc96",
           "#ab63fa",
           "#FFA15A",
           "#19d3f3",
           "#FF6692",
           "#B6E880",
           "#FF97FF",
           "#FECB52"
          ],
          "font": {
           "color": "#2a3f5f"
          },
          "geo": {
           "bgcolor": "white",
           "lakecolor": "white",
           "landcolor": "#E5ECF6",
           "showlakes": true,
           "showland": true,
           "subunitcolor": "white"
          },
          "hoverlabel": {
           "align": "left"
          },
          "hovermode": "closest",
          "mapbox": {
           "style": "light"
          },
          "paper_bgcolor": "white",
          "plot_bgcolor": "#E5ECF6",
          "polar": {
           "angularaxis": {
            "gridcolor": "white",
            "linecolor": "white",
            "ticks": ""
           },
           "bgcolor": "#E5ECF6",
           "radialaxis": {
            "gridcolor": "white",
            "linecolor": "white",
            "ticks": ""
           }
          },
          "scene": {
           "xaxis": {
            "backgroundcolor": "#E5ECF6",
            "gridcolor": "white",
            "gridwidth": 2,
            "linecolor": "white",
            "showbackground": true,
            "ticks": "",
            "zerolinecolor": "white"
           },
           "yaxis": {
            "backgroundcolor": "#E5ECF6",
            "gridcolor": "white",
            "gridwidth": 2,
            "linecolor": "white",
            "showbackground": true,
            "ticks": "",
            "zerolinecolor": "white"
           },
           "zaxis": {
            "backgroundcolor": "#E5ECF6",
            "gridcolor": "white",
            "gridwidth": 2,
            "linecolor": "white",
            "showbackground": true,
            "ticks": "",
            "zerolinecolor": "white"
           }
          },
          "shapedefaults": {
           "line": {
            "color": "#2a3f5f"
           }
          },
          "ternary": {
           "aaxis": {
            "gridcolor": "white",
            "linecolor": "white",
            "ticks": ""
           },
           "baxis": {
            "gridcolor": "white",
            "linecolor": "white",
            "ticks": ""
           },
           "bgcolor": "#E5ECF6",
           "caxis": {
            "gridcolor": "white",
            "linecolor": "white",
            "ticks": ""
           }
          },
          "title": {
           "x": 0.05
          },
          "xaxis": {
           "automargin": true,
           "gridcolor": "white",
           "linecolor": "white",
           "ticks": "",
           "title": {
            "standoff": 15
           },
           "zerolinecolor": "white",
           "zerolinewidth": 2
          },
          "yaxis": {
           "automargin": true,
           "gridcolor": "white",
           "linecolor": "white",
           "ticks": "",
           "title": {
            "standoff": 15
           },
           "zerolinecolor": "white",
           "zerolinewidth": 2
          }
         }
        },
        "xaxis": {
         "anchor": "y",
         "domain": [
          0,
          1
         ],
         "title": {
          "text": "x"
         }
        },
        "yaxis": {
         "anchor": "x",
         "domain": [
          0,
          1
         ],
         "title": {
          "text": "y"
         }
        }
       }
      }
     },
     "metadata": {},
     "output_type": "display_data"
    }
   ],
   "source": [
    "# Graficar los embedddings en 2D\n",
    "x_vals, y_vals, labels = reduce_dimensions(w2v_model)\n",
    "\n",
    "MAX_WORDS=200\n",
    "fig = px.scatter(x=x_vals[:MAX_WORDS], y=y_vals[:MAX_WORDS], text=labels[:MAX_WORDS])\n",
    "fig.show() # esto para plotly en colab"
   ]
  },
  {
   "cell_type": "markdown",
   "metadata": {},
   "source": [
    "A continuación, se muestran algunas agrupaciones con palabras que tienen cierta relación (son imágenes zoomed in del plot anterior):"
   ]
  },
  {
   "cell_type": "markdown",
   "metadata": {},
   "source": [
    "![](1.png)"
   ]
  },
  {
   "cell_type": "markdown",
   "metadata": {},
   "source": [
    "![](2.png)"
   ]
  },
  {
   "cell_type": "markdown",
   "metadata": {},
   "source": [
    "### 6 - Operaciones con embeddings "
   ]
  },
  {
   "cell_type": "markdown",
   "metadata": {},
   "source": [
    "A continuación, se prueban tests de analogía:"
   ]
  },
  {
   "cell_type": "markdown",
   "metadata": {},
   "source": [
    "**Vaso  = Vena + arteria**\n",
    "\n",
    "Las arterias y las venas entran y salen del corazón. Las arterias llevan la sangre hacia afuera del corazón y las venas la llevan hacia adentro. El flujo de sangre se realiza atraves de los vasos sanguineos"
   ]
  },
  {
   "cell_type": "code",
   "execution_count": 318,
   "metadata": {},
   "outputs": [
    {
     "name": "stdout",
     "output_type": "stream",
     "text": [
      "[('vessels', 0.572176456451416)]\n"
     ]
    }
   ],
   "source": [
    "# Vaso = Vena + arteria\n",
    "result = w2v_model.wv.most_similar(positive=['veins', 'arteries'], topn=1)\n",
    "print(result)"
   ]
  },
  {
   "cell_type": "markdown",
   "metadata": {},
   "source": [
    "**Ventriculo = sangre + aorta**\n",
    "\n",
    "El ventrículo izquierdo bombea la sangre oxigenada a través de la válvula aórtica hacia la aorta."
   ]
  },
  {
   "cell_type": "code",
   "execution_count": 320,
   "metadata": {},
   "outputs": [
    {
     "name": "stdout",
     "output_type": "stream",
     "text": [
      "[('ventricle', 0.6135886907577515)]\n"
     ]
    }
   ],
   "source": [
    "# Ventriculo = Sangre + aorta\n",
    "result = w2v_model.wv.most_similar(positive=['blood', 'aorta'], topn=1)\n",
    "print(result)"
   ]
  }
 ],
 "metadata": {
  "colab": {
   "collapsed_sections": [],
   "provenance": []
  },
  "kernelspec": {
   "display_name": "Python 3.10.7 64-bit",
   "language": "python",
   "name": "python3"
  },
  "language_info": {
   "codemirror_mode": {
    "name": "ipython",
    "version": 3
   },
   "file_extension": ".py",
   "mimetype": "text/x-python",
   "name": "python",
   "nbconvert_exporter": "python",
   "pygments_lexer": "ipython3",
   "version": "3.10.7"
  },
  "vscode": {
   "interpreter": {
    "hash": "e371205f210a962933891fb768393d0bb46a1077adb2f652d434f3dc01a259b4"
   }
  }
 },
 "nbformat": 4,
 "nbformat_minor": 4
}
